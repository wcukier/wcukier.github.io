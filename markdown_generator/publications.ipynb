{
 "cells": [
  {
   "cell_type": "markdown",
   "metadata": {
    "deletable": true,
    "editable": true
   },
   "source": [
    "# Publications markdown generator for academicpages\n",
    "\n",
    "Takes a TSV of publications with metadata and converts them for use with [academicpages.github.io](academicpages.github.io). This is an interactive Jupyter notebook ([see more info here](http://jupyter-notebook-beginner-guide.readthedocs.io/en/latest/what_is_jupyter.html)). The core python code is also in `publications.py`. Run either from the `markdown_generator` folder after replacing `publications.tsv` with one containing your data.\n",
    "\n",
    "TODO: Make this work with BibTex and other databases of citations, rather than Stuart's non-standard TSV format and citation style.\n"
   ]
  },
  {
   "cell_type": "markdown",
   "metadata": {},
   "source": [
    "## Data format\n",
    "\n",
    "The TSV needs to have the following columns: pub_date, title, venue, excerpt, citation, site_url, and paper_url, with a header at the top. \n",
    "\n",
    "- `excerpt` and `paper_url` can be blank, but the others must have values. \n",
    "- `pub_date` must be formatted as YYYY-MM-DD.\n",
    "- `url_slug` will be the descriptive part of the .md file and the permalink URL for the page about the paper. The .md file will be `YYYY-MM-DD-[url_slug].md` and the permalink will be `https://[yourdomain]/publications/YYYY-MM-DD-[url_slug]`\n",
    "\n",
    "This is how the raw file looks (it doesn't look pretty, use a spreadsheet or other program to edit and create)."
   ]
  },
  {
   "cell_type": "code",
   "execution_count": 6,
   "metadata": {
    "collapsed": false
   },
   "outputs": [
    {
     "name": "stdout",
     "output_type": "stream",
     "text": [
      "pub_date\ttitle\tvenue\texcerpt\tcitation\turl_slug\tpaper_url\n",
      "2020-05-07\tTOI-1338: TESS' First Transiting Circumbinary Planet\tThe Astronomical Journal\tThis paper is about the number 1. The number 2 is left for future work.\tVeselin B. Kostov *et al* 2020 *AJ* **159** 253\tTOI-1338\thttp://academicpages.github.io/files/paper1.pdf\n",
      "2010-10-01\tPaper Title Number 2\tJournal 1\tThis paper is about the number 2. The number 3 is left for future work.\tYour Name, You. (2010). \"Paper Title Number 2.\" <i>Journal 1</i>. 1(2).\tpaper-title-number-2\thttp://academicpages.github.io/files/paper2.pdf\n",
      "2015-10-01\tPaper Title Number 3\tJournal 1\tThis paper is about the number 3. The number 4 is left for future work.\tYour Name, You. (2015). \"Paper Title Number 3.\" <i>Journal 1</i>. 1(3).\tpaper-title-number-3\thttp://academicpages.github.io/files/paper3.pdf"
     ]
    }
   ],
   "source": [
    "!cat publications.tsv"
   ]
  },
  {
   "cell_type": "markdown",
   "metadata": {},
   "source": [
    "## Import pandas\n",
    "\n",
    "We are using the very handy pandas library for dataframes."
   ]
  },
  {
   "cell_type": "code",
   "execution_count": 7,
   "metadata": {
    "collapsed": true,
    "deletable": true,
    "editable": true
   },
   "outputs": [],
   "source": [
    "import pandas as pd"
   ]
  },
  {
   "cell_type": "markdown",
   "metadata": {},
   "source": [
    "## Import TSV\n",
    "\n",
    "Pandas makes this easy with the read_csv function. We are using a TSV, so we specify the separator as a tab, or `\\t`.\n",
    "\n",
    "I found it important to put this data in a tab-separated values format, because there are a lot of commas in this kind of data and comma-separated values can get messed up. However, you can modify the import statement, as pandas also has read_excel(), read_json(), and others."
   ]
  },
  {
   "cell_type": "code",
   "execution_count": 8,
   "metadata": {
    "collapsed": false,
    "deletable": true,
    "editable": true
   },
   "outputs": [
    {
     "data": {
      "text/html": [
       "<div>\n",
       "<style scoped>\n",
       "    .dataframe tbody tr th:only-of-type {\n",
       "        vertical-align: middle;\n",
       "    }\n",
       "\n",
       "    .dataframe tbody tr th {\n",
       "        vertical-align: top;\n",
       "    }\n",
       "\n",
       "    .dataframe thead th {\n",
       "        text-align: right;\n",
       "    }\n",
       "</style>\n",
       "<table border=\"1\" class=\"dataframe\">\n",
       "  <thead>\n",
       "    <tr style=\"text-align: right;\">\n",
       "      <th></th>\n",
       "      <th>pub_date</th>\n",
       "      <th>title</th>\n",
       "      <th>body</th>\n",
       "      <th>venue</th>\n",
       "      <th>excerpt</th>\n",
       "      <th>citation</th>\n",
       "      <th>url_slug</th>\n",
       "      <th>paper_url</th>\n",
       "      <th>published</th>\n",
       "    </tr>\n",
       "  </thead>\n",
       "  <tbody>\n",
       "    <tr>\n",
       "      <th>6</th>\n",
       "      <td>2023-06-15</td>\n",
       "      <td>Formation, Structure, and Detectability of the...</td>\n",
       "      <td>I worked with Dr. Jamey Szalay to model the fo...</td>\n",
       "      <td>Planetary Science Journal</td>\n",
       "      <td>We present three posible formation models for ...</td>\n",
       "      <td>W. Z. Cukier and J. R. Szalay 2023 *Planet. Sc...</td>\n",
       "      <td>Geminids</td>\n",
       "      <td>https://doi.org/10.3847/PSJ/acd538</td>\n",
       "      <td>True</td>\n",
       "    </tr>\n",
       "    <tr>\n",
       "      <th>5</th>\n",
       "      <td>2022-05-01</td>\n",
       "      <td>Natural Transport of Microbes from Early Venus...</td>\n",
       "      <td>I worked with Dr. Chris Chyba to estimate, giv...</td>\n",
       "      <td>Junior Paper</td>\n",
       "      <td>My Spring JP</td>\n",
       "      <td></td>\n",
       "      <td>Venus-JP</td>\n",
       "      <td></td>\n",
       "      <td>False</td>\n",
       "    </tr>\n",
       "    <tr>\n",
       "      <th>4</th>\n",
       "      <td>2023-01-01</td>\n",
       "      <td>Polarized Raytracing of Black Hole Magnetospheres</td>\n",
       "      <td>I worked with Dr. Benjamin Crinquand and Dr. A...</td>\n",
       "      <td>Junior Paper</td>\n",
       "      <td>My Fall JP</td>\n",
       "      <td></td>\n",
       "      <td>Black-Hole-JP</td>\n",
       "      <td></td>\n",
       "      <td>False</td>\n",
       "    </tr>\n",
       "    <tr>\n",
       "      <th>3</th>\n",
       "      <td>2023-05-12</td>\n",
       "      <td>ABM-2: An improved Absolute Beam Monitor</td>\n",
       "      <td>An absolute beam monitor (ABM) is a device use...</td>\n",
       "      <td>Class Presentation</td>\n",
       "      <td>This project was completed in the year long la...</td>\n",
       "      <td></td>\n",
       "      <td>ABM</td>\n",
       "      <td></td>\n",
       "      <td>False</td>\n",
       "    </tr>\n",
       "    <tr>\n",
       "      <th>2</th>\n",
       "      <td>2019-11-23</td>\n",
       "      <td>Habitable Zone Boundaries for Circumbinary Pla...</td>\n",
       "      <td>This was the research that I did the summer be...</td>\n",
       "      <td>Publications of the Astronomical Society of th...</td>\n",
       "      <td>We used a climate model to understand the habi...</td>\n",
       "      <td>Wolf Cukier *et al* 2019 *PASP* **131** 124402</td>\n",
       "      <td>CBP-HZ</td>\n",
       "      <td>https://arxiv.org/pdf/1911.02983.pdf</td>\n",
       "      <td>True</td>\n",
       "    </tr>\n",
       "    <tr>\n",
       "      <th>1</th>\n",
       "      <td>2020-05-07</td>\n",
       "      <td>TOI-1338: TESS' First Transiting Circumbinary ...</td>\n",
       "      <td>TOI-1338 b is the planet that I helped to disc...</td>\n",
       "      <td>The Astronomical Journal</td>\n",
       "      <td>This paper describes the discovery of the circ...</td>\n",
       "      <td>Veselin B. Kostov *et al* 2020 *AJ* **159** 253</td>\n",
       "      <td>TOI-1338</td>\n",
       "      <td>https://iopscience.iop.org/article/10.3847/153...</td>\n",
       "      <td>True</td>\n",
       "    </tr>\n",
       "  </tbody>\n",
       "</table>\n",
       "</div>"
      ],
      "text/plain": [
       "     pub_date                                              title  \\\n",
       "6  2023-06-15  Formation, Structure, and Detectability of the...   \n",
       "5  2022-05-01  Natural Transport of Microbes from Early Venus...   \n",
       "4  2023-01-01  Polarized Raytracing of Black Hole Magnetospheres   \n",
       "3  2023-05-12           ABM-2: An improved Absolute Beam Monitor   \n",
       "2  2019-11-23  Habitable Zone Boundaries for Circumbinary Pla...   \n",
       "1  2020-05-07  TOI-1338: TESS' First Transiting Circumbinary ...   \n",
       "\n",
       "                                                body  \\\n",
       "6  I worked with Dr. Jamey Szalay to model the fo...   \n",
       "5  I worked with Dr. Chris Chyba to estimate, giv...   \n",
       "4  I worked with Dr. Benjamin Crinquand and Dr. A...   \n",
       "3  An absolute beam monitor (ABM) is a device use...   \n",
       "2  This was the research that I did the summer be...   \n",
       "1  TOI-1338 b is the planet that I helped to disc...   \n",
       "\n",
       "                                               venue  \\\n",
       "6                          Planetary Science Journal   \n",
       "5                                       Junior Paper   \n",
       "4                                       Junior Paper   \n",
       "3                                 Class Presentation   \n",
       "2  Publications of the Astronomical Society of th...   \n",
       "1                           The Astronomical Journal   \n",
       "\n",
       "                                             excerpt  \\\n",
       "6  We present three posible formation models for ...   \n",
       "5                                       My Spring JP   \n",
       "4                                         My Fall JP   \n",
       "3  This project was completed in the year long la...   \n",
       "2  We used a climate model to understand the habi...   \n",
       "1  This paper describes the discovery of the circ...   \n",
       "\n",
       "                                            citation       url_slug  \\\n",
       "6  W. Z. Cukier and J. R. Szalay 2023 *Planet. Sc...       Geminids   \n",
       "5                                                          Venus-JP   \n",
       "4                                                     Black-Hole-JP   \n",
       "3                                                               ABM   \n",
       "2     Wolf Cukier *et al* 2019 *PASP* **131** 124402         CBP-HZ   \n",
       "1    Veselin B. Kostov *et al* 2020 *AJ* **159** 253       TOI-1338   \n",
       "\n",
       "                                           paper_url published  \n",
       "6                 https://doi.org/10.3847/PSJ/acd538      True  \n",
       "5                                                        False  \n",
       "4                                                        False  \n",
       "3                                                        False  \n",
       "2               https://arxiv.org/pdf/1911.02983.pdf      True  \n",
       "1  https://iopscience.iop.org/article/10.3847/153...      True  "
      ]
     },
     "execution_count": 8,
     "metadata": {},
     "output_type": "execute_result"
    }
   ],
   "source": [
    "publications = pd.read_json(\"pubs.json\").T\n",
    "\n",
    "publications\n"
   ]
  },
  {
   "cell_type": "markdown",
   "metadata": {},
   "source": [
    "## Escape special characters\n",
    "\n",
    "YAML is very picky about how it takes a valid string, so we are replacing single and double quotes (and ampersands) with their HTML encoded equivilents. This makes them look not so readable in raw format, but they are parsed and rendered nicely."
   ]
  },
  {
   "cell_type": "code",
   "execution_count": 9,
   "metadata": {
    "collapsed": true,
    "deletable": true,
    "editable": true
   },
   "outputs": [],
   "source": [
    "html_escape_table = {\n",
    "    \"&\": \"&amp;\",\n",
    "    '\"': \"&quot;\",\n",
    "    \"'\": \"&apos;\"\n",
    "    }\n",
    "\n",
    "def html_escape(text):\n",
    "    \"\"\"Produce entities within text.\"\"\"\n",
    "    return \"\".join(html_escape_table.get(c,c) for c in text)"
   ]
  },
  {
   "cell_type": "markdown",
   "metadata": {},
   "source": [
    "## Creating the markdown files\n",
    "\n",
    "This is where the heavy lifting is done. This loops through all the rows in the TSV dataframe, then starts to concatentate a big string (```md```) that contains the markdown for each type. It does the YAML metadata first, then does the description for the individual page."
   ]
  },
  {
   "cell_type": "code",
   "execution_count": 10,
   "metadata": {
    "collapsed": false,
    "deletable": true,
    "editable": true
   },
   "outputs": [],
   "source": [
    "import os\n",
    "dir = \"../_research/\"\n",
    "for f in os.listdir(dir):\n",
    "    os.remove(os.path.join(dir, f))\n",
    "    \n",
    "for row, item in publications.iterrows():\n",
    "    \n",
    "    md_filename = str(item.pub_date) + \"-\" + item.url_slug + \".md\"\n",
    "    html_filename = str(item.pub_date) + \"-\" + item.url_slug\n",
    "    year = item.pub_date[:4]\n",
    "    \n",
    "    ## YAML variables\n",
    "    md = \"---\\ntitle: \\\"\"   + item.title + '\"\\n'\n",
    "    \n",
    "    md += \"\"\"collection: publications\"\"\"\n",
    "    \n",
    "    md += \"\"\"\\npermalink: /research/\"\"\" + html_filename\n",
    "    \n",
    "    if len(str(item.excerpt)) > 5:\n",
    "        md += \"\\nexcerpt: '\" + html_escape(item.excerpt) + \"'\"\n",
    "    \n",
    "    md += \"\\ndate: \" + str(item.pub_date) \n",
    "    \n",
    "    if item.published: md += \"\\nvenue: '\" + html_escape(item.venue) + \"'\"\n",
    "    \n",
    "    if len(str(item.paper_url)) > 5:\n",
    "        md += \"\\npaperurl: '\" + item.paper_url + \"'\"\n",
    "    \n",
    "    md += \"\\ncitation: '\" + html_escape(item.citation) + \"'\"\n",
    "    \n",
    "    md += \"\\n---\"\n",
    "    \n",
    "    ## Markdown description for individual page\n",
    "        \n",
    "    if len(str(item.body)) > 5:\n",
    "        md += \"\\n\" + html_escape(item.body) + \"\\n\"\n",
    "    \n",
    "    if item.published:\n",
    "        if len(str(item.paper_url)) > 5:\n",
    "            md += \"\\n[Download paper here](\" + item.paper_url + \")\\n\" \n",
    "            \n",
    "        md += \"\\nRecommended citation: \" + item.citation\n",
    "    \n",
    "    md_filename = os.path.basename(md_filename)\n",
    "       \n",
    "    with open(\"../_research/\" + md_filename, 'w') as f:\n",
    "        f.write(md)"
   ]
  },
  {
   "cell_type": "markdown",
   "metadata": {},
   "source": [
    "These files are in the publications directory, one directory below where we're working from."
   ]
  },
  {
   "cell_type": "code",
   "execution_count": 11,
   "metadata": {
    "collapsed": false,
    "deletable": true,
    "editable": true
   },
   "outputs": [
    {
     "name": "stdout",
     "output_type": "stream",
     "text": [
      "2019-11-23-CBP-HZ.md        2023-01-01-Black-Hole-JP.md\n",
      "2020-05-07-TOI-1338.md      2023-05-12-ABM.md\n",
      "2022-05-01-Venus-JP.md      2023-06-15-Geminids.md\n"
     ]
    }
   ],
   "source": [
    "!ls ../_research/"
   ]
  },
  {
   "cell_type": "code",
   "execution_count": 12,
   "metadata": {
    "collapsed": false,
    "deletable": true,
    "editable": true
   },
   "outputs": [
    {
     "name": "stdout",
     "output_type": "stream",
     "text": [
      "cat: ../_publications/2009-10-01-paper-title-number-1.md: No such file or directory\n"
     ]
    }
   ],
   "source": [
    "!cat ../_publications/2009-10-01-paper-title-number-1.md"
   ]
  },
  {
   "cell_type": "code",
   "execution_count": null,
   "metadata": {
    "collapsed": true,
    "deletable": true,
    "editable": true
   },
   "outputs": [],
   "source": []
  }
 ],
 "metadata": {
  "kernelspec": {
   "display_name": "Python 3.8.3 ('base')",
   "language": "python",
   "name": "python3"
  },
  "language_info": {
   "codemirror_mode": {
    "name": "ipython",
    "version": 3
   },
   "file_extension": ".py",
   "mimetype": "text/x-python",
   "name": "python",
   "nbconvert_exporter": "python",
   "pygments_lexer": "ipython3",
   "version": "3.8.3"
  },
  "vscode": {
   "interpreter": {
    "hash": "aaead61585ffbfa77ad988ca8cedcffcb67b4f54f12412d1ad3b769248fed130"
   }
  }
 },
 "nbformat": 4,
 "nbformat_minor": 0
}
